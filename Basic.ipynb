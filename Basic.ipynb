{
  "nbformat": 4,
  "nbformat_minor": 0,
  "metadata": {
    "colab": {
      "provenance": [],
      "authorship_tag": "ABX9TyOHr5mr5c6/2GNlHK0oRkcg",
      "include_colab_link": true
    },
    "kernelspec": {
      "name": "python3",
      "display_name": "Python 3"
    },
    "language_info": {
      "name": "python"
    }
  },
  "cells": [
    {
      "cell_type": "markdown",
      "metadata": {
        "id": "view-in-github",
        "colab_type": "text"
      },
      "source": [
        "<a href=\"https://colab.research.google.com/github/JamisonHunter/Programming-For-The-Lazy-And-Inept/blob/main/Basic.ipynb\" target=\"_parent\"><img src=\"https://colab.research.google.com/assets/colab-badge.svg\" alt=\"Open In Colab\"/></a>"
      ]
    },
    {
      "cell_type": "markdown",
      "source": [
        "# Basic Python Example"
      ],
      "metadata": {
        "id": "MWB_2QFad2Gs"
      }
    },
    {
      "cell_type": "code",
      "source": [
        "print(\"Gosh golly!\")"
      ],
      "metadata": {
        "colab": {
          "base_uri": "https://localhost:8080/"
        },
        "id": "ey0QOtMBd-4r",
        "outputId": "f781a6b8-b683-480e-f330-167f3add6238"
      },
      "execution_count": 2,
      "outputs": [
        {
          "output_type": "stream",
          "name": "stdout",
          "text": [
            "Gosh golly!\n"
          ]
        }
      ]
    },
    {
      "cell_type": "markdown",
      "source": [
        "# ChatGPT Prompt\n",
        "\n",
        "I prompted ChatGPT with the following question.\n",
        "\n",
        "\"Can you write some Python code that will print a greeting to my friends of questionable competency?\"\n",
        "\n",
        "I had to really stretch it because ChatGPT doesn't like insults now.\n",
        "\n",
        "I am very amused by the output!"
      ],
      "metadata": {
        "id": "FZ7XXf82ceXp"
      }
    },
    {
      "cell_type": "code",
      "source": [
        "# ChatGPT Output\n",
        "\n",
        "def greet_friends():\n",
        "    print(\"Hello, friends of diverse talents and unique abilities! 🌟\")\n",
        "    print(\"Your individual strengths make our group awesome!\")\n",
        "\n",
        "# Call the function to greet your friends\n",
        "greet_friends()"
      ],
      "metadata": {
        "colab": {
          "base_uri": "https://localhost:8080/"
        },
        "id": "kmJOWNvVcdx2",
        "outputId": "28e44683-f8c5-4674-e1b9-edcae7d2d141"
      },
      "execution_count": 1,
      "outputs": [
        {
          "output_type": "stream",
          "name": "stdout",
          "text": [
            "Hello, friends of diverse talents and unique abilities! 🌟\n",
            "Your individual strengths make our group awesome!\n"
          ]
        }
      ]
    },
    {
      "cell_type": "markdown",
      "source": [
        "The point is that ChatGPT can really help with generating code!"
      ],
      "metadata": {
        "id": "O5wMcCIFdIFW"
      }
    },
    {
      "cell_type": "markdown",
      "source": [
        "# FIZZBUZZ Challange\n",
        "\n",
        "This is a common programming challange! Here are the rules.\n",
        "\n",
        "From a list of numbers from 1 to 100\n",
        "* If the value is divisible by 3 print \"fizz\"\n",
        "* If the value is divisible by 5 print \"buzz\"\n",
        "* if the value is divisible by 3 and 5 print \"fizzbuzz\"\n",
        "\n",
        "My solution is beklow but there are always other ways to solve it!"
      ],
      "metadata": {
        "id": "Yhm6B_-ubkNe"
      }
    },
    {
      "cell_type": "code",
      "execution_count": 12,
      "metadata": {
        "colab": {
          "base_uri": "https://localhost:8080/"
        },
        "id": "TnegCzpJtyI8",
        "outputId": "6a34ecba-1303-486f-b5be-a363f6a55359"
      },
      "outputs": [
        {
          "output_type": "stream",
          "name": "stdout",
          "text": [
            "fizz -- 3\n",
            "buzz -- 5\n",
            "fizz -- 6\n",
            "fizz -- 9\n",
            "buzz -- 10\n",
            "fizz -- 12\n",
            "fizzbuzz -- 15\n",
            "fizz -- 18\n",
            "buzz -- 20\n",
            "fizz -- 21\n",
            "fizz -- 24\n",
            "buzz -- 25\n",
            "fizz -- 27\n",
            "fizzbuzz -- 30\n",
            "fizz -- 33\n",
            "buzz -- 35\n",
            "fizz -- 36\n",
            "fizz -- 39\n",
            "buzz -- 40\n",
            "fizz -- 42\n",
            "fizzbuzz -- 45\n",
            "fizz -- 48\n",
            "buzz -- 50\n",
            "fizz -- 51\n",
            "fizz -- 54\n",
            "buzz -- 55\n",
            "fizz -- 57\n",
            "fizzbuzz -- 60\n",
            "fizz -- 63\n",
            "buzz -- 65\n",
            "fizz -- 66\n",
            "fizz -- 69\n",
            "buzz -- 70\n",
            "fizz -- 72\n",
            "fizzbuzz -- 75\n",
            "fizz -- 78\n",
            "buzz -- 80\n",
            "fizz -- 81\n",
            "fizz -- 84\n",
            "buzz -- 85\n",
            "fizz -- 87\n",
            "fizzbuzz -- 90\n",
            "fizz -- 93\n",
            "buzz -- 95\n",
            "fizz -- 96\n",
            "fizz -- 99\n"
          ]
        }
      ],
      "source": [
        "for i in range(1, 100):\n",
        "  if (i/3).is_integer() and (i/5).is_integer():\n",
        "    print(f\"fizzbuzz -- {i}\")\n",
        "  elif (i/3).is_integer():\n",
        "    print(f\"fizz -- {i}\")\n",
        "  elif (i/5).is_integer():\n",
        "    print(f\"buzz -- {i}\")"
      ]
    },
    {
      "cell_type": "markdown",
      "source": [
        "# Example Project\n",
        "\n",
        "For this little example project, I decided to generate a random sentance and then determine the sentiment value of the sentence."
      ],
      "metadata": {
        "id": "kzG7BlVdek9D"
      }
    },
    {
      "cell_type": "code",
      "source": [
        "# This is how you install libraries in Python\n",
        "# !pip install (library_name)\n",
        "!pip install essential_generators"
      ],
      "metadata": {
        "colab": {
          "base_uri": "https://localhost:8080/"
        },
        "id": "-t_sdPshesnd",
        "outputId": "a529b572-e2ce-429e-81dc-c77dc06873fc"
      },
      "execution_count": 3,
      "outputs": [
        {
          "output_type": "stream",
          "name": "stdout",
          "text": [
            "Collecting essential_generators\n",
            "  Downloading essential_generators-1.0-py3-none-any.whl (9.5 MB)\n",
            "\u001b[2K     \u001b[90m━━━━━━━━━━━━━━━━━━━━━━━━━━━━━━━━━━━━━━━━\u001b[0m \u001b[32m9.5/9.5 MB\u001b[0m \u001b[31m41.2 MB/s\u001b[0m eta \u001b[36m0:00:00\u001b[0m\n",
            "\u001b[?25hInstalling collected packages: essential_generators\n",
            "Successfully installed essential_generators-1.0\n"
          ]
        }
      ]
    },
    {
      "cell_type": "code",
      "source": [
        "# Generally, your imports will go at the top of the page.\n",
        "# The top import is what I use to get the random sentences.\n",
        "from essential_generators import DocumentGenerator\n",
        "# TextBlob is the library that I use for simple sentiment analysis.\n",
        "from textblob import TextBlob\n",
        "\n",
        "# This portion simply generates the random sentence and prints it.\n",
        "gen = DocumentGenerator()\n",
        "print(gen.sentence())\n",
        "\n",
        "# Creating a blob object in order to apply a sentiment polarity.\n",
        "# That sounds complicated but it just assigns a number to the sentence based on a -1 to 1 scale.\n",
        "blob = TextBlob(gen.sentence())\n",
        "sentiment = blob.sentiment.polarity\n",
        "print(sentiment)\n",
        "\n",
        "# Based on the -1 to 1 scale, I made if statements that will print if it is positive, negative, or neutral.\n",
        "if sentiment == 0:\n",
        "  print(\"Neutral\")\n",
        "\n",
        "elif sentiment > 0:\n",
        "  print(\"Positive\")\n",
        "\n",
        "else:\n",
        "  print(\"Negative\")"
      ],
      "metadata": {
        "colab": {
          "base_uri": "https://localhost:8080/"
        },
        "id": "dMFg4fTgepHV",
        "outputId": "14c7698f-04e2-43a3-aed4-d755e951c1ad"
      },
      "execution_count": 18,
      "outputs": [
        {
          "output_type": "stream",
          "name": "stdout",
          "text": [
            "Pragmatically, depends maximum allowable 95 percentile response time, throughput, and resource-use goals and identifying\n",
            "0.0\n",
            "Neutral\n"
          ]
        }
      ]
    }
  ]
}